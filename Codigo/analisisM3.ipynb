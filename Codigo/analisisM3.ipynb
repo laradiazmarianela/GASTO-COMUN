{
 "cells": [
  {
   "cell_type": "markdown",
   "metadata": {},
   "source": [
    "Análisis metros cúbicos de agua cobrados y los respectivos precios"
   ]
  },
  {
   "cell_type": "code",
   "execution_count": 1,
   "metadata": {},
   "outputs": [],
   "source": [
    "#Importar librerías\n",
    "import pandas as pd"
   ]
  },
  {
   "cell_type": "code",
   "execution_count": 4,
   "metadata": {},
   "outputs": [],
   "source": [
    "#Leer archivo CSV\n",
    "m3_df = pd.read_csv('../Archivos CSV/AGUA_COMBUSTIBLE.csv')"
   ]
  },
  {
   "cell_type": "code",
   "execution_count": 5,
   "metadata": {},
   "outputs": [
    {
     "name": "stdout",
     "output_type": "stream",
     "text": [
      "<class 'pandas.core.frame.DataFrame'>\n",
      "RangeIndex: 10 entries, 0 to 9\n",
      "Data columns (total 12 columns):\n",
      " #   Column              Non-Null Count  Dtype  \n",
      "---  ------              --------------  -----  \n",
      " 0   FOLIO               10 non-null     object \n",
      " 1   MES DE COBRO        10 non-null     object \n",
      " 2   ANIO                10 non-null     int64  \n",
      " 3   DESDE               10 non-null     int64  \n",
      " 4   HASTA               10 non-null     int64  \n",
      " 5   M3 AGUA             10 non-null     int64  \n",
      " 6   PESO x M3           10 non-null     object \n",
      " 7   AGUA INDIVIDUAL     10 non-null     float64\n",
      " 8   M3 COMBUSTIBLE      10 non-null     int64  \n",
      " 9   PESO x COMBUSTIBLE  9 non-null      object \n",
      " 10  COMBUSTIBLE         9 non-null      float64\n",
      " 11  OTROS COBROS        1 non-null      float64\n",
      "dtypes: float64(3), int64(5), object(4)\n",
      "memory usage: 1.1+ KB\n"
     ]
    }
   ],
   "source": [
    "#Información del df\n",
    "m3_df.info()"
   ]
  },
  {
   "cell_type": "code",
   "execution_count": 6,
   "metadata": {},
   "outputs": [
    {
     "data": {
      "text/html": [
       "<div>\n",
       "<style scoped>\n",
       "    .dataframe tbody tr th:only-of-type {\n",
       "        vertical-align: middle;\n",
       "    }\n",
       "\n",
       "    .dataframe tbody tr th {\n",
       "        vertical-align: top;\n",
       "    }\n",
       "\n",
       "    .dataframe thead th {\n",
       "        text-align: right;\n",
       "    }\n",
       "</style>\n",
       "<table border=\"1\" class=\"dataframe\">\n",
       "  <thead>\n",
       "    <tr style=\"text-align: right;\">\n",
       "      <th></th>\n",
       "      <th>FOLIO</th>\n",
       "      <th>MES DE COBRO</th>\n",
       "      <th>ANIO</th>\n",
       "      <th>DESDE</th>\n",
       "      <th>HASTA</th>\n",
       "      <th>M3 AGUA</th>\n",
       "      <th>PESO x M3</th>\n",
       "      <th>AGUA INDIVIDUAL</th>\n",
       "      <th>M3 COMBUSTIBLE</th>\n",
       "      <th>PESO x COMBUSTIBLE</th>\n",
       "      <th>COMBUSTIBLE</th>\n",
       "      <th>OTROS COBROS</th>\n",
       "    </tr>\n",
       "  </thead>\n",
       "  <tbody>\n",
       "    <tr>\n",
       "      <th>0</th>\n",
       "      <td>13-3400</td>\n",
       "      <td>Junio</td>\n",
       "      <td>2023</td>\n",
       "      <td>73000</td>\n",
       "      <td>68000</td>\n",
       "      <td>5000</td>\n",
       "      <td>1.331,800</td>\n",
       "      <td>6.659</td>\n",
       "      <td>5000</td>\n",
       "      <td>4.840,688</td>\n",
       "      <td>24.203</td>\n",
       "      <td>NaN</td>\n",
       "    </tr>\n",
       "    <tr>\n",
       "      <th>1</th>\n",
       "      <td>14-3676</td>\n",
       "      <td>Julio</td>\n",
       "      <td>2023</td>\n",
       "      <td>77000</td>\n",
       "      <td>73000</td>\n",
       "      <td>4000</td>\n",
       "      <td>1.345,500</td>\n",
       "      <td>5.382</td>\n",
       "      <td>4000</td>\n",
       "      <td>5.055,088</td>\n",
       "      <td>20.220</td>\n",
       "      <td>NaN</td>\n",
       "    </tr>\n",
       "    <tr>\n",
       "      <th>2</th>\n",
       "      <td>15-3952</td>\n",
       "      <td>Agosto</td>\n",
       "      <td>2023</td>\n",
       "      <td>81000</td>\n",
       "      <td>77000</td>\n",
       "      <td>4000</td>\n",
       "      <td>1.482,250</td>\n",
       "      <td>5.929</td>\n",
       "      <td>4000</td>\n",
       "      <td>4.703,780</td>\n",
       "      <td>18.815</td>\n",
       "      <td>NaN</td>\n",
       "    </tr>\n",
       "    <tr>\n",
       "      <th>3</th>\n",
       "      <td>16-4228</td>\n",
       "      <td>Septiembre</td>\n",
       "      <td>2023</td>\n",
       "      <td>86000</td>\n",
       "      <td>81000</td>\n",
       "      <td>5000</td>\n",
       "      <td>1.345,400</td>\n",
       "      <td>6.727</td>\n",
       "      <td>5000</td>\n",
       "      <td>5.519,046</td>\n",
       "      <td>27.595</td>\n",
       "      <td>NaN</td>\n",
       "    </tr>\n",
       "    <tr>\n",
       "      <th>4</th>\n",
       "      <td>17-4504</td>\n",
       "      <td>Octubre</td>\n",
       "      <td>2023</td>\n",
       "      <td>91000</td>\n",
       "      <td>86000</td>\n",
       "      <td>5000</td>\n",
       "      <td>1.419,000</td>\n",
       "      <td>7.905</td>\n",
       "      <td>5000</td>\n",
       "      <td>4.761,364</td>\n",
       "      <td>23.087</td>\n",
       "      <td>NaN</td>\n",
       "    </tr>\n",
       "  </tbody>\n",
       "</table>\n",
       "</div>"
      ],
      "text/plain": [
       "     FOLIO MES DE COBRO  ANIO  DESDE  HASTA  M3 AGUA  PESO x M3   \n",
       "0  13-3400        Junio  2023  73000  68000     5000  1.331,800  \\\n",
       "1  14-3676        Julio  2023  77000  73000     4000  1.345,500   \n",
       "2  15-3952       Agosto  2023  81000  77000     4000  1.482,250   \n",
       "3  16-4228   Septiembre  2023  86000  81000     5000  1.345,400   \n",
       "4  17-4504      Octubre  2023  91000  86000     5000  1.419,000   \n",
       "\n",
       "   AGUA INDIVIDUAL  M3 COMBUSTIBLE PESO x COMBUSTIBLE  COMBUSTIBLE   \n",
       "0            6.659            5000          4.840,688       24.203  \\\n",
       "1            5.382            4000          5.055,088       20.220   \n",
       "2            5.929            4000          4.703,780       18.815   \n",
       "3            6.727            5000          5.519,046       27.595   \n",
       "4            7.905            5000          4.761,364       23.087   \n",
       "\n",
       "   OTROS COBROS  \n",
       "0           NaN  \n",
       "1           NaN  \n",
       "2           NaN  \n",
       "3           NaN  \n",
       "4           NaN  "
      ]
     },
     "execution_count": 6,
     "metadata": {},
     "output_type": "execute_result"
    }
   ],
   "source": [
    "#Visualizar df\n",
    "m3_df.head()"
   ]
  }
 ],
 "metadata": {
  "kernelspec": {
   "display_name": "Python 3",
   "language": "python",
   "name": "python3"
  },
  "language_info": {
   "codemirror_mode": {
    "name": "ipython",
    "version": 3
   },
   "file_extension": ".py",
   "mimetype": "text/x-python",
   "name": "python",
   "nbconvert_exporter": "python",
   "pygments_lexer": "ipython3",
   "version": "3.8.0"
  }
 },
 "nbformat": 4,
 "nbformat_minor": 2
}
