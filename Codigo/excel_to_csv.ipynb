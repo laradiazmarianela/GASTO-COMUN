{
 "cells": [
  {
   "cell_type": "markdown",
   "metadata": {},
   "source": [
    "Archivos .xlsx a .csv"
   ]
  },
  {
   "cell_type": "code",
   "execution_count": 1,
   "metadata": {},
   "outputs": [],
   "source": [
    "#Importar librerías\n",
    "import pandas as pd"
   ]
  },
  {
   "cell_type": "code",
   "execution_count": 2,
   "metadata": {},
   "outputs": [],
   "source": [
    "#Cargar archivos excel\n",
    "excel_file0 = \"../Archivos Excel/AGUA_CALIENTE_FRIA.xlsx\"\n",
    "df0 = pd.read_excel(excel_file0)\n",
    "\n",
    "excel_file1 = \"../Archivos Excel/AGUA_COMBUSTIBLE.xlsx\"\n",
    "df1 = pd.read_excel(excel_file1)\n",
    "\n",
    "excel_file2 = \"../Archivos Excel/GASTO_COMUN.xlsx\"\n",
    "df2 = pd.read_excel(excel_file2)"
   ]
  },
  {
   "cell_type": "code",
   "execution_count": 3,
   "metadata": {},
   "outputs": [],
   "source": [
    "#Guardar en capeta\n",
    "output_folder = \"C:/Users/manee/OneDrive/Escritorio/P_F/PROYECTOS/ANALISIS_GASTO_COMUN/GASTO-COMUN/Archivos CSV\"\n",
    "csv_file0 = f\"{output_folder}/AGUA_CALIENTE_FRIA.csv\"\n",
    "\n",
    "output_folder = \"C:/Users/manee/OneDrive/Escritorio/P_F/PROYECTOS/ANALISIS_GASTO_COMUN/GASTO-COMUN/Archivos CSV\"\n",
    "csv_file1 = f\"{output_folder}/AGUA_COMBUSTIBLE.csv\"\n",
    "\n",
    "output_folder = \"C:/Users/manee/OneDrive/Escritorio/P_F/PROYECTOS/ANALISIS_GASTO_COMUN/GASTO-COMUN/Archivos CSV\"\n",
    "csv_file2 = f\"{output_folder}/GASTO_COMUN.csv\""
   ]
  },
  {
   "cell_type": "code",
   "execution_count": 4,
   "metadata": {},
   "outputs": [],
   "source": [
    "#Guardar df a formato csv\n",
    "df0.to_csv(csv_file0, index=False)\n",
    "df1.to_csv(csv_file1, index=False)\n",
    "df2.to_csv(csv_file2, index=False)"
   ]
  }
 ],
 "metadata": {
  "kernelspec": {
   "display_name": "Python 3",
   "language": "python",
   "name": "python3"
  },
  "language_info": {
   "codemirror_mode": {
    "name": "ipython",
    "version": 3
   },
   "file_extension": ".py",
   "mimetype": "text/x-python",
   "name": "python",
   "nbconvert_exporter": "python",
   "pygments_lexer": "ipython3",
   "version": "3.8.0"
  }
 },
 "nbformat": 4,
 "nbformat_minor": 2
}
